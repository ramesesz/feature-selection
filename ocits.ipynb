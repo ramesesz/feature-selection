{
 "cells": [
  {
   "cell_type": "markdown",
   "id": "45036dfa",
   "metadata": {},
   "source": [
    "This code is a simple demonstration of the filter method (i.e., constant feature elimination) extracted from https://www.kaggle.com/code/raviprakash438/filter-method-feature-selection. For a more complete filter method data processing, visit the link above."
   ]
  },
  {
   "cell_type": "code",
   "execution_count": 1,
   "id": "db9c2324",
   "metadata": {},
   "outputs": [],
   "source": [
    "import numpy as np # linear algebra\n",
    "import pandas as pd # data processing, CSV file I/O (e.g. pd.read_csv)\n",
    "import collections\n",
    "\n",
    "from sklearn.model_selection import train_test_split"
   ]
  },
  {
   "cell_type": "code",
   "execution_count": 22,
   "id": "9996ffbb",
   "metadata": {},
   "outputs": [],
   "source": [
    "df_train = pd.read_csv('./datasets/train.csv')\n",
    "df_test = pd.read_csv(\"./datasets/test.csv\")"
   ]
  },
  {
   "cell_type": "code",
   "execution_count": 3,
   "id": "f985b99c",
   "metadata": {},
   "outputs": [
    {
     "name": "stdout",
     "output_type": "stream",
     "text": [
      "<class 'pandas.core.frame.DataFrame'>\n",
      "RangeIndex: 76020 entries, 0 to 76019\n",
      "Columns: 371 entries, ID to TARGET\n",
      "dtypes: float64(111), int64(260)\n",
      "memory usage: 215.2 MB\n"
     ]
    }
   ],
   "source": [
    "df_train.info()"
   ]
  },
  {
   "cell_type": "code",
   "execution_count": 4,
   "id": "843ca794",
   "metadata": {},
   "outputs": [
    {
     "name": "stdout",
     "output_type": "stream",
     "text": [
      "<class 'pandas.core.frame.DataFrame'>\n",
      "RangeIndex: 75818 entries, 0 to 75817\n",
      "Columns: 370 entries, ID to var38\n",
      "dtypes: float64(110), int64(260)\n",
      "memory usage: 214.0 MB\n"
     ]
    }
   ],
   "source": [
    "df_test.info()"
   ]
  },
  {
   "cell_type": "markdown",
   "id": "e7814cfe",
   "metadata": {},
   "source": [
    "FILTER METHOD"
   ]
  },
  {
   "cell_type": "code",
   "execution_count": 5,
   "id": "7bae9f4b",
   "metadata": {},
   "outputs": [],
   "source": [
    "X_train, X_label = df_train.drop(labels=['TARGET'], axis=1), df_train['TARGET']\n",
    "X_test = df_test"
   ]
  },
  {
   "cell_type": "code",
   "execution_count": 18,
   "id": "f81c09b4",
   "metadata": {},
   "outputs": [
    {
     "data": {
      "text/plain": [
       "VarianceThreshold(threshold=0)"
      ]
     },
     "execution_count": 18,
     "metadata": {},
     "output_type": "execute_result"
    }
   ],
   "source": [
    "from sklearn.feature_selection import VarianceThreshold\n",
    "\n",
    "model = VarianceThreshold(threshold=0)\n",
    "# setting the variance threshold = 0 removes features that do not have any variance, i.e., have features with constant value.\n",
    "model.fit(X_train)"
   ]
  },
  {
   "cell_type": "code",
   "execution_count": 19,
   "id": "5351c4ed",
   "metadata": {},
   "outputs": [],
   "source": [
    "# get mask; False means the feature is removed from the model.\n",
    "constArr=model.get_support()\n",
    "# constArr"
   ]
  },
  {
   "cell_type": "code",
   "execution_count": 20,
   "id": "df81dfe7",
   "metadata": {},
   "outputs": [
    {
     "data": {
      "text/plain": [
       "Counter({True: 336, False: 34})"
      ]
     },
     "execution_count": 20,
     "metadata": {},
     "output_type": "execute_result"
    }
   ],
   "source": [
    "collections.Counter(constArr)\n",
    "# 336 features are included in the model, meaning they are not constant.\n",
    "# 34 features are not included in the model due to having constant values."
   ]
  },
  {
   "cell_type": "code",
   "execution_count": 21,
   "id": "f157d84f",
   "metadata": {},
   "outputs": [],
   "source": [
    "# list of all features that are constant\n",
    "constCol=[col for col in X_train.columns if col not in X_train.columns[constArr]]\n",
    "# constCol"
   ]
  },
  {
   "cell_type": "code",
   "execution_count": 22,
   "id": "8157fa94",
   "metadata": {},
   "outputs": [
    {
     "name": "stdout",
     "output_type": "stream",
     "text": [
      "Shape before drop--> (76020, 370) (75818, 370)\n",
      "Shape after drop--> (76020, 336) (75818, 336)\n"
     ]
    }
   ],
   "source": [
    "print('Shape before drop-->',X_train.shape, X_test.shape)\n",
    "\n",
    "#X_train=varModel.transform(X_train)\n",
    "#X_test=varModel.transform(X_test)\n",
    "\n",
    "# remove constant features\n",
    "X_train.drop(columns=constCol,axis=1,inplace=True)\n",
    "X_test.drop(columns=constCol,axis=1,inplace=True)\n",
    "print('Shape after drop-->',X_train.shape, X_test.shape)"
   ]
  },
  {
   "cell_type": "markdown",
   "id": "d835fd83",
   "metadata": {},
   "source": [
    "WRAPPER METHOD"
   ]
  },
  {
   "cell_type": "code",
   "execution_count": 23,
   "id": "353d6d93",
   "metadata": {},
   "outputs": [],
   "source": [
    "from sklearn.feature_selection import SequentialFeatureSelector\n",
    "from sklearn.neighbors import KNeighborsClassifier"
   ]
  },
  {
   "cell_type": "code",
   "execution_count": 26,
   "id": "a7a002cd",
   "metadata": {},
   "outputs": [],
   "source": [
    "df_train = pd.read_csv('./datasets/train.csv')\n",
    "\n",
    "# reduce training set\n",
    "X_train, X_label = df_train.drop(labels=['TARGET'], axis=1), df_train['TARGET']\n",
    "X_train, X_label = X_train.head(1000), X_label.head(1000)"
   ]
  },
  {
   "cell_type": "code",
   "execution_count": 27,
   "id": "5f4a5495",
   "metadata": {},
   "outputs": [
    {
     "data": {
      "text/plain": [
       "SequentialFeatureSelector(estimator=KNeighborsClassifier(n_neighbors=3),\n",
       "                          n_features_to_select=5)"
      ]
     },
     "execution_count": 27,
     "metadata": {},
     "output_type": "execute_result"
    }
   ],
   "source": [
    "knn = KNeighborsClassifier(n_neighbors=3)\n",
    "\n",
    "sfs = SequentialFeatureSelector(knn, n_features_to_select=5, direction='forward')\n",
    "sfs.fit(X_train, X_label)"
   ]
  },
  {
   "cell_type": "code",
   "execution_count": null,
   "id": "c96926c4",
   "metadata": {},
   "outputs": [],
   "source": [
    "sfs.get_support()"
   ]
  },
  {
   "cell_type": "code",
   "execution_count": 29,
   "id": "6ea0c10d",
   "metadata": {},
   "outputs": [],
   "source": [
    "constArr=sfs.get_support()\n",
    "constCol=[col for col in X_train.columns if col not in X_train.columns[constArr]]"
   ]
  },
  {
   "cell_type": "code",
   "execution_count": 30,
   "id": "a103419a",
   "metadata": {},
   "outputs": [
    {
     "name": "stdout",
     "output_type": "stream",
     "text": [
      "Shape before drop--> (1000, 370) (75818, 370)\n",
      "Shape after drop--> (1000, 5) (75818, 5)\n"
     ]
    }
   ],
   "source": [
    "print('Shape before drop-->',X_train.shape, X_test.shape)\n",
    "\n",
    "#X_train=varModel.transform(X_train)\n",
    "#X_test=varModel.transform(X_test)\n",
    "\n",
    "# remove constant features\n",
    "X_train.drop(columns=constCol,axis=1,inplace=True)\n",
    "X_test.drop(columns=constCol,axis=1,inplace=True)\n",
    "print('Shape after drop-->',X_train.shape, X_test.shape)"
   ]
  },
  {
   "cell_type": "code",
   "execution_count": 33,
   "id": "dd320fd7",
   "metadata": {},
   "outputs": [
    {
     "data": {
      "text/plain": [
       "Index(['var3', 'var15', 'imp_ent_var16_ult1', 'saldo_var37', 'num_var22_ult3'], dtype='object')"
      ]
     },
     "execution_count": 33,
     "metadata": {},
     "output_type": "execute_result"
    }
   ],
   "source": [
    "X_train.columns"
   ]
  },
  {
   "cell_type": "markdown",
   "id": "3e73ba21",
   "metadata": {},
   "source": [
    "EMBEDDED METHOD"
   ]
  },
  {
   "cell_type": "code",
   "execution_count": 74,
   "id": "6fb91e96",
   "metadata": {},
   "outputs": [],
   "source": [
    "df_train = pd.read_csv('./datasets/train.csv')\n",
    "\n",
    "# reduce training set\n",
    "X_train, X_label = df_train.drop(labels=['TARGET'], axis=1), df_train['TARGET']\n",
    "X_train, X_label = X_train, X_label"
   ]
  },
  {
   "cell_type": "code",
   "execution_count": 75,
   "id": "1d13c54c",
   "metadata": {},
   "outputs": [
    {
     "data": {
      "text/plain": [
       "RidgeClassifier(alpha=0.5)"
      ]
     },
     "execution_count": 75,
     "metadata": {},
     "output_type": "execute_result"
    }
   ],
   "source": [
    "from sklearn import linear_model\n",
    "\n",
    "# model = linear_model.LinearRegression()\n",
    "# model = linear_model.Perceptron(tol=1e-3, random_state=0)\n",
    "model = linear_model.RidgeClassifier(alpha=0.5)\n",
    "\n",
    "model.fit(X_train, X_label)"
   ]
  },
  {
   "cell_type": "code",
   "execution_count": 68,
   "id": "a0241911",
   "metadata": {},
   "outputs": [],
   "source": [
    "# create mask\n",
    "abs_weight = abs(model.coef_[0])\n",
    "mean = np.mean(abs_weight)\n",
    "mask = [i > mean for i in abs_weight]"
   ]
  },
  {
   "cell_type": "code",
   "execution_count": 78,
   "id": "74a4799f",
   "metadata": {},
   "outputs": [],
   "source": [
    "model_coeff = pd.DataFrame()\n",
    "model_coeff[\"Features\"] = X_train.columns[mask]\n",
    "model_coeff[\"Weights\"] = pd.Series(model.coef_[0][mask])"
   ]
  },
  {
   "cell_type": "code",
   "execution_count": 79,
   "id": "6621570e",
   "metadata": {},
   "outputs": [
    {
     "data": {
      "text/html": [
       "<div>\n",
       "<style scoped>\n",
       "    .dataframe tbody tr th:only-of-type {\n",
       "        vertical-align: middle;\n",
       "    }\n",
       "\n",
       "    .dataframe tbody tr th {\n",
       "        vertical-align: top;\n",
       "    }\n",
       "\n",
       "    .dataframe thead th {\n",
       "        text-align: right;\n",
       "    }\n",
       "</style>\n",
       "<table border=\"1\" class=\"dataframe\">\n",
       "  <thead>\n",
       "    <tr style=\"text-align: right;\">\n",
       "      <th></th>\n",
       "      <th>Features</th>\n",
       "      <th>Weights</th>\n",
       "    </tr>\n",
       "  </thead>\n",
       "  <tbody>\n",
       "    <tr>\n",
       "      <th>0</th>\n",
       "      <td>ind_var1_0</td>\n",
       "      <td>-0.795797</td>\n",
       "    </tr>\n",
       "    <tr>\n",
       "      <th>1</th>\n",
       "      <td>ind_var8_0</td>\n",
       "      <td>0.246297</td>\n",
       "    </tr>\n",
       "    <tr>\n",
       "      <th>2</th>\n",
       "      <td>ind_var12_0</td>\n",
       "      <td>-0.030674</td>\n",
       "    </tr>\n",
       "    <tr>\n",
       "      <th>3</th>\n",
       "      <td>ind_var12</td>\n",
       "      <td>0.078606</td>\n",
       "    </tr>\n",
       "    <tr>\n",
       "      <th>4</th>\n",
       "      <td>ind_var13_0</td>\n",
       "      <td>-0.031095</td>\n",
       "    </tr>\n",
       "    <tr>\n",
       "      <th>...</th>\n",
       "      <td>...</td>\n",
       "      <td>...</td>\n",
       "    </tr>\n",
       "    <tr>\n",
       "      <th>59</th>\n",
       "      <td>num_meses_var44_ult3</td>\n",
       "      <td>-0.059479</td>\n",
       "    </tr>\n",
       "    <tr>\n",
       "      <th>60</th>\n",
       "      <td>num_reemb_var17_ult1</td>\n",
       "      <td>0.094214</td>\n",
       "    </tr>\n",
       "    <tr>\n",
       "      <th>61</th>\n",
       "      <td>num_sal_var16_ult1</td>\n",
       "      <td>0.018886</td>\n",
       "    </tr>\n",
       "    <tr>\n",
       "      <th>62</th>\n",
       "      <td>num_trasp_var33_in_hace3</td>\n",
       "      <td>0.042184</td>\n",
       "    </tr>\n",
       "    <tr>\n",
       "      <th>63</th>\n",
       "      <td>num_venta_var44_hace3</td>\n",
       "      <td>-0.066623</td>\n",
       "    </tr>\n",
       "  </tbody>\n",
       "</table>\n",
       "<p>64 rows × 2 columns</p>\n",
       "</div>"
      ],
      "text/plain": [
       "                    Features   Weights\n",
       "0                 ind_var1_0 -0.795797\n",
       "1                 ind_var8_0  0.246297\n",
       "2                ind_var12_0 -0.030674\n",
       "3                  ind_var12  0.078606\n",
       "4                ind_var13_0 -0.031095\n",
       "..                       ...       ...\n",
       "59      num_meses_var44_ult3 -0.059479\n",
       "60      num_reemb_var17_ult1  0.094214\n",
       "61        num_sal_var16_ult1  0.018886\n",
       "62  num_trasp_var33_in_hace3  0.042184\n",
       "63     num_venta_var44_hace3 -0.066623\n",
       "\n",
       "[64 rows x 2 columns]"
      ]
     },
     "execution_count": 79,
     "metadata": {},
     "output_type": "execute_result"
    }
   ],
   "source": [
    "model_coeff"
   ]
  }
 ],
 "metadata": {
  "kernelspec": {
   "display_name": "Python 3 (ipykernel)",
   "language": "python",
   "name": "python3"
  },
  "language_info": {
   "codemirror_mode": {
    "name": "ipython",
    "version": 3
   },
   "file_extension": ".py",
   "mimetype": "text/x-python",
   "name": "python",
   "nbconvert_exporter": "python",
   "pygments_lexer": "ipython3",
   "version": "3.7.13"
  }
 },
 "nbformat": 4,
 "nbformat_minor": 5
}
